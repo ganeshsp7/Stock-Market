{
 "cells": [
  {
   "cell_type": "code",
   "execution_count": 61,
   "id": "5bbe7561",
   "metadata": {},
   "outputs": [],
   "source": [
    "import numpy as np\n",
    "import matplotlib.pyplot as plt\n",
    "from sklearn.preprocessing import MinMaxScaler\n",
    "import math\n",
    "from sklearn.metrics import mean_squared_error\n",
    "\n",
    "import yfinance as yf\n",
    "import tensorflow as tf"
   ]
  },
  {
   "cell_type": "code",
   "execution_count": 7,
   "id": "ca27eb34",
   "metadata": {},
   "outputs": [],
   "source": [
    "stock=yf.Ticker(\"^NSEBANK\")"
   ]
  },
  {
   "cell_type": "code",
   "execution_count": 15,
   "id": "6ed4f9d0",
   "metadata": {},
   "outputs": [],
   "source": [
    "df=stock.history(period=\"max\")"
   ]
  },
  {
   "cell_type": "code",
   "execution_count": 16,
   "id": "e7078426",
   "metadata": {},
   "outputs": [
    {
     "data": {
      "text/html": [
       "<div>\n",
       "<style scoped>\n",
       "    .dataframe tbody tr th:only-of-type {\n",
       "        vertical-align: middle;\n",
       "    }\n",
       "\n",
       "    .dataframe tbody tr th {\n",
       "        vertical-align: top;\n",
       "    }\n",
       "\n",
       "    .dataframe thead th {\n",
       "        text-align: right;\n",
       "    }\n",
       "</style>\n",
       "<table border=\"1\" class=\"dataframe\">\n",
       "  <thead>\n",
       "    <tr style=\"text-align: right;\">\n",
       "      <th></th>\n",
       "      <th>Open</th>\n",
       "      <th>High</th>\n",
       "      <th>Low</th>\n",
       "      <th>Close</th>\n",
       "      <th>Volume</th>\n",
       "      <th>Dividends</th>\n",
       "      <th>Stock Splits</th>\n",
       "    </tr>\n",
       "    <tr>\n",
       "      <th>Date</th>\n",
       "      <th></th>\n",
       "      <th></th>\n",
       "      <th></th>\n",
       "      <th></th>\n",
       "      <th></th>\n",
       "      <th></th>\n",
       "      <th></th>\n",
       "    </tr>\n",
       "  </thead>\n",
       "  <tbody>\n",
       "    <tr>\n",
       "      <th>2007-09-17 00:00:00+05:30</th>\n",
       "      <td>6897.919911</td>\n",
       "      <td>6977.119187</td>\n",
       "      <td>6842.920550</td>\n",
       "      <td>6897.020020</td>\n",
       "      <td>0</td>\n",
       "      <td>0.0</td>\n",
       "      <td>0.0</td>\n",
       "    </tr>\n",
       "    <tr>\n",
       "      <th>2007-09-18 00:00:00+05:30</th>\n",
       "      <td>6921.069480</td>\n",
       "      <td>7078.867940</td>\n",
       "      <td>6883.520112</td>\n",
       "      <td>7059.567871</td>\n",
       "      <td>0</td>\n",
       "      <td>0.0</td>\n",
       "      <td>0.0</td>\n",
       "    </tr>\n",
       "    <tr>\n",
       "      <th>2007-09-19 00:00:00+05:30</th>\n",
       "      <td>7110.917439</td>\n",
       "      <td>7419.263957</td>\n",
       "      <td>7110.917439</td>\n",
       "      <td>7401.764160</td>\n",
       "      <td>0</td>\n",
       "      <td>0.0</td>\n",
       "      <td>0.0</td>\n",
       "    </tr>\n",
       "    <tr>\n",
       "      <th>2007-09-20 00:00:00+05:30</th>\n",
       "      <td>7404.864086</td>\n",
       "      <td>7462.813119</td>\n",
       "      <td>7343.514701</td>\n",
       "      <td>7390.063965</td>\n",
       "      <td>0</td>\n",
       "      <td>0.0</td>\n",
       "      <td>0.0</td>\n",
       "    </tr>\n",
       "    <tr>\n",
       "      <th>2007-09-21 00:00:00+05:30</th>\n",
       "      <td>7378.213894</td>\n",
       "      <td>7506.262696</td>\n",
       "      <td>7367.064122</td>\n",
       "      <td>7464.413086</td>\n",
       "      <td>0</td>\n",
       "      <td>0.0</td>\n",
       "      <td>0.0</td>\n",
       "    </tr>\n",
       "    <tr>\n",
       "      <th>...</th>\n",
       "      <td>...</td>\n",
       "      <td>...</td>\n",
       "      <td>...</td>\n",
       "      <td>...</td>\n",
       "      <td>...</td>\n",
       "      <td>...</td>\n",
       "      <td>...</td>\n",
       "    </tr>\n",
       "    <tr>\n",
       "      <th>2023-06-05 00:00:00+05:30</th>\n",
       "      <td>44103.250000</td>\n",
       "      <td>44266.148438</td>\n",
       "      <td>44074.199219</td>\n",
       "      <td>44101.648438</td>\n",
       "      <td>124500</td>\n",
       "      <td>0.0</td>\n",
       "      <td>0.0</td>\n",
       "    </tr>\n",
       "    <tr>\n",
       "      <th>2023-06-06 00:00:00+05:30</th>\n",
       "      <td>44156.699219</td>\n",
       "      <td>44236.199219</td>\n",
       "      <td>44009.699219</td>\n",
       "      <td>44164.550781</td>\n",
       "      <td>123600</td>\n",
       "      <td>0.0</td>\n",
       "      <td>0.0</td>\n",
       "    </tr>\n",
       "    <tr>\n",
       "      <th>2023-06-07 00:00:00+05:30</th>\n",
       "      <td>44318.699219</td>\n",
       "      <td>44346.300781</td>\n",
       "      <td>44143.500000</td>\n",
       "      <td>44275.300781</td>\n",
       "      <td>119200</td>\n",
       "      <td>0.0</td>\n",
       "      <td>0.0</td>\n",
       "    </tr>\n",
       "    <tr>\n",
       "      <th>2023-06-08 00:00:00+05:30</th>\n",
       "      <td>44208.300781</td>\n",
       "      <td>44459.250000</td>\n",
       "      <td>43917.898438</td>\n",
       "      <td>43995.250000</td>\n",
       "      <td>160200</td>\n",
       "      <td>0.0</td>\n",
       "      <td>0.0</td>\n",
       "    </tr>\n",
       "    <tr>\n",
       "      <th>2023-06-09 00:00:00+05:30</th>\n",
       "      <td>44045.750000</td>\n",
       "      <td>44220.101562</td>\n",
       "      <td>43932.601562</td>\n",
       "      <td>43989.000000</td>\n",
       "      <td>132300</td>\n",
       "      <td>0.0</td>\n",
       "      <td>0.0</td>\n",
       "    </tr>\n",
       "  </tbody>\n",
       "</table>\n",
       "<p>3584 rows × 7 columns</p>\n",
       "</div>"
      ],
      "text/plain": [
       "                                   Open          High           Low  \\\n",
       "Date                                                                  \n",
       "2007-09-17 00:00:00+05:30   6897.919911   6977.119187   6842.920550   \n",
       "2007-09-18 00:00:00+05:30   6921.069480   7078.867940   6883.520112   \n",
       "2007-09-19 00:00:00+05:30   7110.917439   7419.263957   7110.917439   \n",
       "2007-09-20 00:00:00+05:30   7404.864086   7462.813119   7343.514701   \n",
       "2007-09-21 00:00:00+05:30   7378.213894   7506.262696   7367.064122   \n",
       "...                                 ...           ...           ...   \n",
       "2023-06-05 00:00:00+05:30  44103.250000  44266.148438  44074.199219   \n",
       "2023-06-06 00:00:00+05:30  44156.699219  44236.199219  44009.699219   \n",
       "2023-06-07 00:00:00+05:30  44318.699219  44346.300781  44143.500000   \n",
       "2023-06-08 00:00:00+05:30  44208.300781  44459.250000  43917.898438   \n",
       "2023-06-09 00:00:00+05:30  44045.750000  44220.101562  43932.601562   \n",
       "\n",
       "                                  Close  Volume  Dividends  Stock Splits  \n",
       "Date                                                                      \n",
       "2007-09-17 00:00:00+05:30   6897.020020       0        0.0           0.0  \n",
       "2007-09-18 00:00:00+05:30   7059.567871       0        0.0           0.0  \n",
       "2007-09-19 00:00:00+05:30   7401.764160       0        0.0           0.0  \n",
       "2007-09-20 00:00:00+05:30   7390.063965       0        0.0           0.0  \n",
       "2007-09-21 00:00:00+05:30   7464.413086       0        0.0           0.0  \n",
       "...                                 ...     ...        ...           ...  \n",
       "2023-06-05 00:00:00+05:30  44101.648438  124500        0.0           0.0  \n",
       "2023-06-06 00:00:00+05:30  44164.550781  123600        0.0           0.0  \n",
       "2023-06-07 00:00:00+05:30  44275.300781  119200        0.0           0.0  \n",
       "2023-06-08 00:00:00+05:30  43995.250000  160200        0.0           0.0  \n",
       "2023-06-09 00:00:00+05:30  43989.000000  132300        0.0           0.0  \n",
       "\n",
       "[3584 rows x 7 columns]"
      ]
     },
     "execution_count": 16,
     "metadata": {},
     "output_type": "execute_result"
    }
   ],
   "source": [
    "df"
   ]
  },
  {
   "cell_type": "code",
   "execution_count": 18,
   "id": "23679ccc",
   "metadata": {},
   "outputs": [
    {
     "data": {
      "text/plain": [
       "0        6897.020020\n",
       "1        7059.567871\n",
       "2        7401.764160\n",
       "3        7390.063965\n",
       "4        7464.413086\n",
       "            ...     \n",
       "3579    44101.648438\n",
       "3580    44164.550781\n",
       "3581    44275.300781\n",
       "3582    43995.250000\n",
       "3583    43989.000000\n",
       "Name: Close, Length: 3584, dtype: float64"
      ]
     },
     "execution_count": 18,
     "metadata": {},
     "output_type": "execute_result"
    }
   ],
   "source": [
    "df1=df.reset_index()['Close']\n",
    "df1"
   ]
  },
  {
   "cell_type": "code",
   "execution_count": 22,
   "id": "cbb510ad",
   "metadata": {},
   "outputs": [
    {
     "data": {
      "image/png": "[encoded data removed]",
      "text/plain": [
       "<Figure size 640x480 with 1 Axes>"
      ]
     },
     "metadata": {},
     "output_type": "display_data"
    }
   ],
   "source": [
    "plt.plot(df1)\n",
    "plt.show()"
   ]
  },
  {
   "cell_type": "markdown",
   "id": "7682d008",
   "metadata": {},
   "source": [
    "<h5> LSTM are sensitive to the scale of the data. so we apply MinMax scaler "
   ]
  },
  {
   "cell_type": "code",
   "execution_count": 25,
   "id": "5fe6a83f",
   "metadata": {},
   "outputs": [],
   "source": [
    "scaler=MinMaxScaler(feature_range=(0,1))\n",
    "df1=scaler.fit_transform(np.array(df1).reshape(-1,1))"
   ]
  },
  {
   "cell_type": "code",
   "execution_count": 28,
   "id": "8d8e095a",
   "metadata": {},
   "outputs": [
    {
     "name": "stdout",
     "output_type": "stream",
     "text": [
      "[[0.08656071]\n",
      " [0.09051597]\n",
      " [0.09884258]\n",
      " ...\n",
      " [0.99608117]\n",
      " [0.98926674]\n",
      " [0.98911466]]\n"
     ]
    }
   ],
   "source": [
    "print(df1)"
   ]
  },
  {
   "cell_type": "markdown",
   "id": "256270a2",
   "metadata": {},
   "source": [
    "<h5> splitting dataset into train and test split"
   ]
  },
  {
   "cell_type": "code",
   "execution_count": 31,
   "id": "65bfe81d",
   "metadata": {},
   "outputs": [],
   "source": [
    "training_size=int(len(df1)*0.80)\n",
    "test_size=len(df1)-training_size\n",
    "train_data,test_data=df1[0:training_size,:],df1[training_size:len(df1),:1]"
   ]
  },
  {
   "cell_type": "code",
   "execution_count": 32,
   "id": "b460b5d5",
   "metadata": {},
   "outputs": [
    {
     "data": {
      "text/plain": [
       "(2867, 717)"
      ]
     },
     "execution_count": 32,
     "metadata": {},
     "output_type": "execute_result"
    }
   ],
   "source": [
    "training_size,test_size"
   ]
  },
  {
   "cell_type": "code",
   "execution_count": 33,
   "id": "aaed8302",
   "metadata": {},
   "outputs": [
    {
     "data": {
      "text/plain": [
       "array([[0.08656071],\n",
       "       [0.09051597],\n",
       "       [0.09884258],\n",
       "       ...,\n",
       "       [0.43801193],\n",
       "       [0.44425079],\n",
       "       [0.45324535]])"
      ]
     },
     "execution_count": 33,
     "metadata": {},
     "output_type": "execute_result"
    }
   ],
   "source": [
    "train_data"
   ]
  },
  {
   "cell_type": "code",
   "execution_count": 36,
   "id": "6cd30d37",
   "metadata": {},
   "outputs": [],
   "source": [
    "# convert an array of values into a dataset matrix\n",
    "def create_dataset(dataset, time_step=1):\n",
    "    dataX, dataY = [], []\n",
    "    for i in range(len(dataset)-time_step-1):\n",
    "        a = dataset[i:(i+time_step), 0]   ###i=0, 0,1,2,3-----99   100 \n",
    "        dataX.append(a)\n",
    "        dataY.append(dataset[i + time_step, 0])\n",
    "    return np.array(dataX), np.array(dataY)"
   ]
  },
  {
   "cell_type": "code",
   "execution_count": 37,
   "id": "d4a58670",
   "metadata": {},
   "outputs": [],
   "source": [
    "# reshape into X=t,t+1,t+2,t+3 and Y=t+4\n",
    "time_step = 100\n",
    "X_train, y_train = create_dataset(train_data, time_step)\n",
    "X_test, ytest = create_dataset(test_data, time_step)"
   ]
  },
  {
   "cell_type": "code",
   "execution_count": 40,
   "id": "10caaa9e",
   "metadata": {},
   "outputs": [
    {
     "name": "stdout",
     "output_type": "stream",
     "text": [
      "(2766, 100)\n",
      "(2766,)\n"
     ]
    }
   ],
   "source": [
    "print(X_train.shape) \n",
    "print(y_train.shape)"
   ]
  },
  {
   "cell_type": "code",
   "execution_count": 41,
   "id": "6ccf8402",
   "metadata": {},
   "outputs": [
    {
     "name": "stdout",
     "output_type": "stream",
     "text": [
      "(616, 100)\n",
      "(616,)\n"
     ]
    }
   ],
   "source": [
    "print(X_test.shape)\n",
    "print(ytest.shape)"
   ]
  },
  {
   "cell_type": "code",
   "execution_count": 42,
   "id": "0d1d4fe8",
   "metadata": {},
   "outputs": [],
   "source": [
    "# reshape input to be [samples, time steps, features] which is required for LSTM\n",
    "X_train =X_train.reshape(X_train.shape[0],X_train.shape[1] , 1)\n",
    "X_test = X_test.reshape(X_test.shape[0],X_test.shape[1] , 1)"
   ]
  },
  {
   "cell_type": "markdown",
   "id": "f7c9e2b9",
   "metadata": {},
   "source": [
    "<h4> Create the Stacked LSTM model"
   ]
  },
  {
   "cell_type": "code",
   "execution_count": 54,
   "id": "554c205a",
   "metadata": {},
   "outputs": [],
   "source": [
    "model=tf.keras.models.Sequential()\n",
    "model.add(tf.keras.layers.LSTM(50,return_sequences=True,input_shape=(100,1)))\n",
    "model.add(tf.keras.layers.LSTM(50,return_sequences=True))\n",
    "model.add(tf.keras.layers.LSTM(50))\n",
    "model.add(tf.keras.layers.Dense(1))"
   ]
  },
  {
   "cell_type": "code",
   "execution_count": 55,
   "id": "0cbf2bdc",
   "metadata": {},
   "outputs": [],
   "source": [
    "model.compile(optimizer=\"adam\",loss=\"mean_squared_error\")"
   ]
  },
  {
   "cell_type": "code",
   "execution_count": 56,
   "id": "d480b348",
   "metadata": {},
   "outputs": [
    {
     "name": "stdout",
     "output_type": "stream",
     "text": [
      "Model: \"sequential_2\"\n",
      "_________________________________________________________________\n",
      " Layer (type)                Output Shape              Param #   \n",
      "=================================================================\n",
      " lstm_3 (LSTM)               (None, 100, 50)           10400     \n",
      "                                                                 \n",
      " lstm_4 (LSTM)               (None, 100, 50)           20200     \n",
      "                                                                 \n",
      " lstm_5 (LSTM)               (None, 50)                20200     \n",
      "                                                                 \n",
      " dense_1 (Dense)             (None, 1)                 51        \n",
      "                                                                 \n",
      "=================================================================\n",
      "Total params: 50,851\n",
      "Trainable params: 50,851\n",
      "Non-trainable params: 0\n",
      "_________________________________________________________________\n"
     ]
    }
   ],
   "source": [
    "model.summary()"
   ]
  },
  {
   "cell_type": "code",
   "execution_count": 57,
   "id": "ad5f9857",
   "metadata": {},
   "outputs": [
    {
     "name": "stdout",
     "output_type": "stream",
     "text": [
      "Epoch 1/100\n",
      "44/44 [==============================] - 21s 292ms/step - loss: 0.0121 - val_loss: 0.0012\n",
      "Epoch 2/100\n",
      "44/44 [==============================] - 10s 231ms/step - loss: 5.0269e-04 - val_loss: 0.0019\n",
      "Epoch 3/100\n",
      "44/44 [==============================] - 10s 231ms/step - loss: 4.5903e-04 - val_loss: 0.0013\n",
      "Epoch 4/100\n",
      "44/44 [==============================] - 11s 240ms/step - loss: 4.2598e-04 - val_loss: 0.0013\n",
      "Epoch 5/100\n",
      "44/44 [==============================] - 10s 237ms/step - loss: 3.9994e-04 - val_loss: 0.0016\n",
      "Epoch 6/100\n",
      "44/44 [==============================] - 10s 231ms/step - loss: 4.0366e-04 - val_loss: 0.0024\n",
      "Epoch 7/100\n",
      "44/44 [==============================] - 10s 236ms/step - loss: 3.8814e-04 - val_loss: 0.0017\n",
      "Epoch 8/100\n",
      "44/44 [==============================] - 10s 236ms/step - loss: 3.6701e-04 - val_loss: 8.4071e-04\n",
      "Epoch 9/100\n",
      "44/44 [==============================] - 11s 239ms/step - loss: 3.4387e-04 - val_loss: 0.0011\n",
      "Epoch 10/100\n",
      "44/44 [==============================] - 11s 254ms/step - loss: 3.3211e-04 - val_loss: 0.0021\n",
      "Epoch 11/100\n",
      "44/44 [==============================] - 11s 240ms/step - loss: 3.0423e-04 - val_loss: 8.7722e-04\n",
      "Epoch 12/100\n",
      "44/44 [==============================] - 10s 239ms/step - loss: 2.7394e-04 - val_loss: 0.0011\n",
      "Epoch 13/100\n",
      "44/44 [==============================] - 11s 239ms/step - loss: 2.7289e-04 - val_loss: 8.2651e-04\n",
      "Epoch 14/100\n",
      "44/44 [==============================] - 10s 236ms/step - loss: 2.6611e-04 - val_loss: 0.0014\n",
      "Epoch 15/100\n",
      "44/44 [==============================] - 10s 234ms/step - loss: 2.5200e-04 - val_loss: 0.0010\n",
      "Epoch 16/100\n",
      "44/44 [==============================] - 11s 241ms/step - loss: 2.5613e-04 - val_loss: 7.2463e-04\n",
      "Epoch 17/100\n",
      "44/44 [==============================] - 10s 235ms/step - loss: 2.3056e-04 - val_loss: 0.0019\n",
      "Epoch 18/100\n",
      "44/44 [==============================] - 10s 238ms/step - loss: 2.3809e-04 - val_loss: 9.7482e-04\n",
      "Epoch 19/100\n",
      "44/44 [==============================] - 10s 239ms/step - loss: 2.2098e-04 - val_loss: 7.1843e-04\n",
      "Epoch 20/100\n",
      "44/44 [==============================] - 10s 231ms/step - loss: 2.0702e-04 - val_loss: 0.0019\n",
      "Epoch 21/100\n",
      "44/44 [==============================] - 11s 240ms/step - loss: 2.4846e-04 - val_loss: 0.0014\n",
      "Epoch 22/100\n",
      "44/44 [==============================] - 10s 238ms/step - loss: 2.5155e-04 - val_loss: 6.4341e-04\n",
      "Epoch 23/100\n",
      "44/44 [==============================] - 10s 230ms/step - loss: 1.9520e-04 - val_loss: 5.8672e-04\n",
      "Epoch 24/100\n",
      "44/44 [==============================] - 11s 242ms/step - loss: 1.9653e-04 - val_loss: 0.0013\n",
      "Epoch 25/100\n",
      "44/44 [==============================] - 11s 241ms/step - loss: 2.0512e-04 - val_loss: 8.8167e-04\n",
      "Epoch 26/100\n",
      "44/44 [==============================] - 10s 234ms/step - loss: 1.9039e-04 - val_loss: 7.1742e-04\n",
      "Epoch 27/100\n",
      "44/44 [==============================] - 11s 244ms/step - loss: 1.8287e-04 - val_loss: 0.0014\n",
      "Epoch 28/100\n",
      "44/44 [==============================] - 11s 244ms/step - loss: 1.8118e-04 - val_loss: 5.8086e-04\n",
      "Epoch 29/100\n",
      "44/44 [==============================] - 10s 235ms/step - loss: 1.8203e-04 - val_loss: 0.0014\n",
      "Epoch 30/100\n",
      "44/44 [==============================] - 11s 245ms/step - loss: 1.7934e-04 - val_loss: 5.1256e-04\n",
      "Epoch 31/100\n",
      "44/44 [==============================] - 11s 240ms/step - loss: 1.6488e-04 - val_loss: 0.0018\n",
      "Epoch 32/100\n",
      "44/44 [==============================] - 10s 234ms/step - loss: 1.6816e-04 - val_loss: 4.4979e-04\n",
      "Epoch 33/100\n",
      "44/44 [==============================] - 11s 240ms/step - loss: 1.4820e-04 - val_loss: 7.9467e-04\n",
      "Epoch 34/100\n",
      "44/44 [==============================] - 10s 236ms/step - loss: 1.4499e-04 - val_loss: 4.0522e-04\n",
      "Epoch 35/100\n",
      "44/44 [==============================] - 10s 238ms/step - loss: 1.4675e-04 - val_loss: 4.1322e-04\n",
      "Epoch 36/100\n",
      "44/44 [==============================] - 11s 239ms/step - loss: 1.5499e-04 - val_loss: 4.9786e-04\n",
      "Epoch 37/100\n",
      "44/44 [==============================] - 10s 237ms/step - loss: 1.5068e-04 - val_loss: 3.9929e-04\n",
      "Epoch 38/100\n",
      "44/44 [==============================] - 10s 238ms/step - loss: 1.3537e-04 - val_loss: 5.1969e-04\n",
      "Epoch 39/100\n",
      "44/44 [==============================] - 11s 240ms/step - loss: 1.3866e-04 - val_loss: 3.9517e-04\n",
      "Epoch 40/100\n",
      "44/44 [==============================] - 11s 247ms/step - loss: 1.2689e-04 - val_loss: 4.5677e-04\n",
      "Epoch 41/100\n",
      "44/44 [==============================] - 11s 242ms/step - loss: 1.2941e-04 - val_loss: 3.3583e-04\n",
      "Epoch 42/100\n",
      "44/44 [==============================] - 11s 241ms/step - loss: 1.2558e-04 - val_loss: 4.9003e-04\n",
      "Epoch 43/100\n",
      "44/44 [==============================] - 10s 235ms/step - loss: 1.1545e-04 - val_loss: 6.6719e-04\n",
      "Epoch 44/100\n",
      "44/44 [==============================] - 11s 240ms/step - loss: 1.2896e-04 - val_loss: 3.8900e-04\n",
      "Epoch 45/100\n",
      "44/44 [==============================] - 11s 240ms/step - loss: 1.1894e-04 - val_loss: 6.0909e-04\n",
      "Epoch 46/100\n",
      "44/44 [==============================] - 10s 234ms/step - loss: 1.1383e-04 - val_loss: 2.8632e-04\n",
      "Epoch 47/100\n",
      "44/44 [==============================] - 10s 239ms/step - loss: 1.2561e-04 - val_loss: 5.5056e-04\n",
      "Epoch 48/100\n",
      "44/44 [==============================] - 10s 239ms/step - loss: 1.1585e-04 - val_loss: 3.2724e-04\n",
      "Epoch 49/100\n",
      "44/44 [==============================] - 10s 234ms/step - loss: 1.1516e-04 - val_loss: 2.7352e-04\n",
      "Epoch 50/100\n",
      "44/44 [==============================] - 11s 240ms/step - loss: 1.0403e-04 - val_loss: 3.3336e-04\n",
      "Epoch 51/100\n",
      "44/44 [==============================] - 11s 241ms/step - loss: 9.7784e-05 - val_loss: 2.7818e-04\n",
      "Epoch 52/100\n",
      "44/44 [==============================] - 10s 233ms/step - loss: 1.0097e-04 - val_loss: 2.3691e-04\n",
      "Epoch 53/100\n",
      "44/44 [==============================] - 11s 245ms/step - loss: 9.5458e-05 - val_loss: 3.0591e-04\n",
      "Epoch 54/100\n",
      "44/44 [==============================] - 11s 243ms/step - loss: 9.8612e-05 - val_loss: 2.0769e-04\n",
      "Epoch 55/100\n",
      "44/44 [==============================] - 10s 235ms/step - loss: 9.7274e-05 - val_loss: 2.3958e-04\n",
      "Epoch 56/100\n",
      "44/44 [==============================] - 11s 248ms/step - loss: 9.8334e-05 - val_loss: 2.3849e-04\n",
      "Epoch 57/100\n",
      "44/44 [==============================] - 11s 245ms/step - loss: 9.3941e-05 - val_loss: 2.2627e-04\n",
      "Epoch 58/100\n",
      "44/44 [==============================] - 11s 260ms/step - loss: 9.2142e-05 - val_loss: 0.0011\n",
      "Epoch 59/100\n",
      "44/44 [==============================] - 12s 276ms/step - loss: 1.3378e-04 - val_loss: 5.3307e-04\n",
      "Epoch 60/100\n",
      "44/44 [==============================] - 12s 283ms/step - loss: 9.4821e-05 - val_loss: 5.7348e-04\n",
      "Epoch 61/100\n",
      "44/44 [==============================] - 12s 273ms/step - loss: 8.5504e-05 - val_loss: 1.8189e-04\n",
      "Epoch 62/100\n",
      "44/44 [==============================] - 12s 273ms/step - loss: 9.3355e-05 - val_loss: 2.1723e-04\n",
      "Epoch 63/100\n",
      "44/44 [==============================] - 12s 275ms/step - loss: 8.7477e-05 - val_loss: 1.8346e-04\n",
      "Epoch 64/100\n",
      "44/44 [==============================] - 12s 278ms/step - loss: 1.0123e-04 - val_loss: 4.3596e-04\n",
      "Epoch 65/100\n",
      "44/44 [==============================] - 12s 273ms/step - loss: 7.3055e-05 - val_loss: 2.5538e-04\n",
      "Epoch 66/100\n",
      "44/44 [==============================] - 12s 274ms/step - loss: 7.7309e-05 - val_loss: 2.2915e-04\n",
      "Epoch 67/100\n",
      "44/44 [==============================] - 11s 244ms/step - loss: 7.2835e-05 - val_loss: 3.0105e-04\n",
      "Epoch 68/100\n",
      "44/44 [==============================] - 11s 242ms/step - loss: 8.0005e-05 - val_loss: 1.5499e-04\n",
      "Epoch 69/100\n",
      "44/44 [==============================] - 10s 235ms/step - loss: 7.6208e-05 - val_loss: 1.6541e-04\n",
      "Epoch 70/100\n",
      "44/44 [==============================] - 11s 239ms/step - loss: 6.5638e-05 - val_loss: 2.4078e-04\n",
      "Epoch 71/100\n",
      "44/44 [==============================] - 11s 241ms/step - loss: 8.4620e-05 - val_loss: 2.1008e-04\n",
      "Epoch 72/100\n",
      "44/44 [==============================] - 10s 236ms/step - loss: 6.8757e-05 - val_loss: 1.8029e-04\n",
      "Epoch 73/100\n",
      "44/44 [==============================] - 11s 240ms/step - loss: 6.2897e-05 - val_loss: 1.7071e-04\n",
      "Epoch 74/100\n",
      "44/44 [==============================] - 11s 241ms/step - loss: 7.1988e-05 - val_loss: 1.5029e-04\n",
      "Epoch 75/100\n"
     ]
    },
    {
     "name": "stdout",
     "output_type": "stream",
     "text": [
      "44/44 [==============================] - 10s 233ms/step - loss: 5.9692e-05 - val_loss: 1.5107e-04\n",
      "Epoch 76/100\n",
      "44/44 [==============================] - 10s 238ms/step - loss: 6.8741e-05 - val_loss: 3.7170e-04\n",
      "Epoch 77/100\n",
      "44/44 [==============================] - 11s 243ms/step - loss: 5.9254e-05 - val_loss: 2.3673e-04\n",
      "Epoch 78/100\n",
      "44/44 [==============================] - 10s 232ms/step - loss: 9.5641e-05 - val_loss: 1.4572e-04\n",
      "Epoch 79/100\n",
      "44/44 [==============================] - 10s 238ms/step - loss: 6.5904e-05 - val_loss: 1.4630e-04\n",
      "Epoch 80/100\n",
      "44/44 [==============================] - 11s 240ms/step - loss: 5.9753e-05 - val_loss: 1.4551e-04\n",
      "Epoch 81/100\n",
      "44/44 [==============================] - 10s 232ms/step - loss: 6.4178e-05 - val_loss: 2.1832e-04\n",
      "Epoch 82/100\n",
      "44/44 [==============================] - 10s 238ms/step - loss: 6.0124e-05 - val_loss: 2.9592e-04\n",
      "Epoch 83/100\n",
      "44/44 [==============================] - 10s 238ms/step - loss: 9.2745e-05 - val_loss: 1.9794e-04\n",
      "Epoch 84/100\n",
      "44/44 [==============================] - 11s 240ms/step - loss: 5.8729e-05 - val_loss: 2.1837e-04\n",
      "Epoch 85/100\n",
      "44/44 [==============================] - 11s 256ms/step - loss: 5.8653e-05 - val_loss: 1.5022e-04\n",
      "Epoch 86/100\n",
      "44/44 [==============================] - 11s 245ms/step - loss: 5.6139e-05 - val_loss: 1.8666e-04\n",
      "Epoch 87/100\n",
      "44/44 [==============================] - 11s 239ms/step - loss: 6.2552e-05 - val_loss: 1.5734e-04\n",
      "Epoch 88/100\n",
      "44/44 [==============================] - 11s 241ms/step - loss: 5.9684e-05 - val_loss: 2.7710e-04\n",
      "Epoch 89/100\n",
      "44/44 [==============================] - 11s 239ms/step - loss: 6.7606e-05 - val_loss: 1.8118e-04\n",
      "Epoch 90/100\n",
      "44/44 [==============================] - 10s 234ms/step - loss: 6.0382e-05 - val_loss: 2.6937e-04\n",
      "Epoch 91/100\n",
      "44/44 [==============================] - 11s 241ms/step - loss: 6.2682e-05 - val_loss: 1.7858e-04\n",
      "Epoch 92/100\n",
      "44/44 [==============================] - 10s 239ms/step - loss: 5.9492e-05 - val_loss: 3.8659e-04\n",
      "Epoch 93/100\n",
      "44/44 [==============================] - 10s 236ms/step - loss: 5.7996e-05 - val_loss: 1.6922e-04\n",
      "Epoch 94/100\n",
      "44/44 [==============================] - 10s 239ms/step - loss: 5.9988e-05 - val_loss: 3.2591e-04\n",
      "Epoch 95/100\n",
      "44/44 [==============================] - 10s 236ms/step - loss: 6.5351e-05 - val_loss: 1.5914e-04\n",
      "Epoch 96/100\n",
      "44/44 [==============================] - 10s 236ms/step - loss: 7.8296e-05 - val_loss: 1.5382e-04\n",
      "Epoch 97/100\n",
      "44/44 [==============================] - 11s 242ms/step - loss: 6.0068e-05 - val_loss: 1.6007e-04\n",
      "Epoch 98/100\n",
      "44/44 [==============================] - 10s 238ms/step - loss: 5.5070e-05 - val_loss: 1.8506e-04\n",
      "Epoch 99/100\n",
      "44/44 [==============================] - 11s 240ms/step - loss: 5.6432e-05 - val_loss: 2.7524e-04\n",
      "Epoch 100/100\n",
      "44/44 [==============================] - 11s 246ms/step - loss: 6.3068e-05 - val_loss: 5.0774e-04\n"
     ]
    },
    {
     "data": {
      "text/plain": [
       "<keras.callbacks.History at 0x1bb6312ace0>"
      ]
     },
     "execution_count": 57,
     "metadata": {},
     "output_type": "execute_result"
    }
   ],
   "source": [
    "model.fit(X_train,y_train,validation_data=(X_test,ytest),epochs=100,batch_size=64,verbose=1)"
   ]
  },
  {
   "cell_type": "code",
   "execution_count": 58,
   "id": "9f7d65dc",
   "metadata": {},
   "outputs": [
    {
     "name": "stdout",
     "output_type": "stream",
     "text": [
      "87/87 [==============================] - 6s 57ms/step\n",
      "20/20 [==============================] - 1s 63ms/step\n"
     ]
    }
   ],
   "source": [
    "### Lets Do the prediction and check performance metrics\n",
    "train_predict=model.predict(X_train)\n",
    "test_predict=model.predict(X_test)"
   ]
  },
  {
   "cell_type": "code",
   "execution_count": 59,
   "id": "02e7f89a",
   "metadata": {},
   "outputs": [],
   "source": [
    "##Transformback to original form\n",
    "train_predict=scaler.inverse_transform(train_predict)\n",
    "test_predict=scaler.inverse_transform(test_predict)"
   ]
  },
  {
   "cell_type": "code",
   "execution_count": 62,
   "id": "deffbbad",
   "metadata": {},
   "outputs": [
    {
     "data": {
      "text/plain": [
       "17896.0792934346"
      ]
     },
     "execution_count": 62,
     "metadata": {},
     "output_type": "execute_result"
    }
   ],
   "source": [
    "math.sqrt(mean_squared_error(y_train,train_predict))"
   ]
  },
  {
   "cell_type": "code",
   "execution_count": 63,
   "id": "46e6e1c5",
   "metadata": {},
   "outputs": [
    {
     "data": {
      "text/plain": [
       "38377.41386486576"
      ]
     },
     "execution_count": 63,
     "metadata": {},
     "output_type": "execute_result"
    }
   ],
   "source": [
    "math.sqrt(mean_squared_error(ytest,test_predict))"
   ]
  },
  {
   "cell_type": "code",
   "execution_count": 66,
   "id": "bba7186a",
   "metadata": {},
   "outputs": [
    {
     "data": {
      "image/png": "[encoded data removed]",
      "text/plain": [
       "<Figure size 640x480 with 1 Axes>"
      ]
     },
     "metadata": {},
     "output_type": "display_data"
    }
   ],
   "source": [
    "### Plotting \n",
    "# shift train predictions for plotting\n",
    "look_back=100\n",
    "trainPredictPlot = np.empty_like(df1)\n",
    "trainPredictPlot[:, :] = np.nan\n",
    "trainPredictPlot[look_back:len(train_predict)+look_back, :] = train_predict\n",
    "# shift test predictions for plotting\n",
    "testPredictPlot = np.empty_like(df1)\n",
    "testPredictPlot[:, :] = np.nan\n",
    "testPredictPlot[len(train_predict)+(look_back*2)+1:len(df1)-1, :] = test_predict\n",
    "# plot baseline and predictions\n",
    "plt.plot(scaler.inverse_transform(df1))\n",
    "plt.plot(trainPredictPlot)\n",
    "plt.plot(testPredictPlot)\n",
    "plt.show()"
   ]
  },
  {
   "cell_type": "code",
   "execution_count": null,
   "id": "fde811ad",
   "metadata": {},
   "outputs": [],
   "source": []
  },
  {
   "cell_type": "code",
   "execution_count": null,
   "id": "65cba364",
   "metadata": {},
   "outputs": [],
   "source": []
  },
  {
   "cell_type": "code",
   "execution_count": 67,
   "id": "8c2b4aca",
   "metadata": {},
   "outputs": [
    {
     "data": {
      "text/plain": [
       "717"
      ]
     },
     "execution_count": 67,
     "metadata": {},
     "output_type": "execute_result"
    }
   ],
   "source": [
    "len(test_data)"
   ]
  },
  {
   "cell_type": "code",
   "execution_count": 68,
   "id": "9e4c3fc7",
   "metadata": {},
   "outputs": [
    {
     "data": {
      "text/plain": [
       "(1, 100)"
      ]
     },
     "execution_count": 68,
     "metadata": {},
     "output_type": "execute_result"
    }
   ],
   "source": [
    "x_input=test_data[617:].reshape(1,-1)\n",
    "x_input.shape"
   ]
  },
  {
   "cell_type": "code",
   "execution_count": 75,
   "id": "8856f429",
   "metadata": {},
   "outputs": [
    {
     "data": {
      "text/plain": [
       "array([[0.94271798, 0.94975017, 0.94479359, 0.94643606, 0.95186105,\n",
       "        0.9487185 , 0.95304851, 0.96069996, 0.95856352, 0.93214288,\n",
       "        0.90045304, 0.90147863, 0.90799014, 0.90453364, 0.90833688,\n",
       "        0.92854285, 0.92550001, 0.92832994, 0.92946626, 0.92987146,\n",
       "        0.9299955 , 0.92325045, 0.93215999, 0.9341723 , 0.93174633,\n",
       "        0.91958959, 0.90912523, 0.90844153, 0.89195108, 0.89208862,\n",
       "        0.88984629, 0.89952354, 0.89859766, 0.90903883, 0.90153585,\n",
       "        0.92249984, 0.92490994, 0.93042627, 0.9226312 , 0.90386325,\n",
       "        0.88145877, 0.87772852, 0.86897116, 0.8709446 , 0.88227154,\n",
       "        0.87652528, 0.88948861, 0.89202778, 0.88272892, 0.87733805,\n",
       "        0.8782128 , 0.88153661, 0.88986453, 0.90686104, 0.91183473,\n",
       "        0.91636302, 0.91738139, 0.91236026, 0.92530173, 0.92996024,\n",
       "        0.94394194, 0.94710521, 0.94716965, 0.94446386, 0.94727431,\n",
       "        0.94358788, 0.95618621, 0.95722644, 0.9609104 , 0.96507018,\n",
       "        0.97074088, 0.9736171 , 0.97265833, 0.9817284 , 0.95680547,\n",
       "        0.97195999, 0.96987098, 0.97310487, 0.97661489, 0.98435882,\n",
       "        0.99113676, 0.98703905, 0.98205081, 0.98335509, 0.9886377 ,\n",
       "        0.98658651, 0.98827394, 0.98154353, 0.98162983, 0.98982031,\n",
       "        0.9969717 , 1.        , 0.99250054, 0.98427727, 0.98787007,\n",
       "        0.99185572, 0.99338631, 0.99608117, 0.98926674, 0.98911466]])"
      ]
     },
     "execution_count": 75,
     "metadata": {},
     "output_type": "execute_result"
    }
   ],
   "source": [
    "x_input"
   ]
  },
  {
   "cell_type": "code",
   "execution_count": 73,
   "id": "e2b56c6b",
   "metadata": {},
   "outputs": [],
   "source": [
    "temp_input=list(x_input)\n",
    "temp_input=temp_input[0].tolist()"
   ]
  },
  {
   "cell_type": "code",
   "execution_count": 77,
   "id": "696e708e",
   "metadata": {
    "scrolled": true
   },
   "outputs": [
    {
     "data": {
      "text/plain": [
       "[0.9427179770953175,\n",
       " 0.9497501735320221,\n",
       " 0.9447935890328759,\n",
       " 0.9464360570587499,\n",
       " 0.9518610491060157,\n",
       " 0.94871849830327,\n",
       " 0.95304851166662,\n",
       " 0.9606999603711815,\n",
       " 0.9585635162845166,\n",
       " 0.9321428782745605,\n",
       " 0.900453035549191,\n",
       " 0.9014786275630324,\n",
       " 0.9079901388234791,\n",
       " 0.9045336371012045,\n",
       " 0.9083368820733858,\n",
       " 0.9285428507004881,\n",
       " 0.9255000075921372,\n",
       " 0.9283299381786155,\n",
       " 0.9294662637138772,\n",
       " 0.929871462857066,\n",
       " 0.9299955034111033,\n",
       " 0.9232504537282277,\n",
       " 0.9321599873164969,\n",
       " 0.9341722957988913,\n",
       " 0.931746328702573,\n",
       " 0.9195895940050486,\n",
       " 0.9091252287057121,\n",
       " 0.9084415323798954,\n",
       " 0.8919510773599351,\n",
       " 0.8920886150470554,\n",
       " 0.8898462850008522,\n",
       " 0.8995235393208912,\n",
       " 0.8985976550014446,\n",
       " 0.9090388280439343,\n",
       " 0.9015358478032857,\n",
       " 0.922499842038394,\n",
       " 0.9249099357458047,\n",
       " 0.9304262710669632,\n",
       " 0.9226312014603707,\n",
       " 0.9038632478080049,\n",
       " 0.8814587672921027,\n",
       " 0.8777285208988491,\n",
       " 0.868971162733579,\n",
       " 0.8709445956706852,\n",
       " 0.8822715418343046,\n",
       " 0.8765252799995703,\n",
       " 0.8894886109741529,\n",
       " 0.8920277828979489,\n",
       " 0.8827289235553986,\n",
       " 0.8773380545417722,\n",
       " 0.8782128018358761,\n",
       " 0.8815366134329123,\n",
       " 0.8898645346455841,\n",
       " 0.9068610371059237,\n",
       " 0.9118347306470062,\n",
       " 0.9163630187963498,\n",
       " 0.9173813869924848,\n",
       " 0.912360263385146,\n",
       " 0.9253017328061436,\n",
       " 0.9299602397746681,\n",
       " 0.9439419389453857,\n",
       " 0.9471052106989207,\n",
       " 0.9471696547568803,\n",
       " 0.9444638597746725,\n",
       " 0.9472743050633899,\n",
       " 0.9435878768275398,\n",
       " 0.9561862149074837,\n",
       " 0.9572264446572037,\n",
       " 0.9609104015869966,\n",
       " 0.9650701799830815,\n",
       " 0.9707408768825975,\n",
       " 0.9736170969325365,\n",
       " 0.9726583252324791,\n",
       " 0.9817283986642494,\n",
       " 0.9568054671753407,\n",
       " 0.9719599911707838,\n",
       " 0.9698709771503754,\n",
       " 0.9731048712270135,\n",
       " 0.9766148862304552,\n",
       " 0.9843588188117053,\n",
       " 0.9911367558751915,\n",
       " 0.9870390452812418,\n",
       " 0.9820508090545136,\n",
       " 0.9833550883514489,\n",
       " 0.9886376951497126,\n",
       " 0.9865865111220297,\n",
       " 0.9882739379081026,\n",
       " 0.9815435259611057,\n",
       " 0.9816298315726505,\n",
       " 0.989820310148435,\n",
       " 0.9969716995772949,\n",
       " 0.9999999999999999,\n",
       " 0.9925005366179714,\n",
       " 0.9842772657118094,\n",
       " 0.9878700694681756,\n",
       " 0.9918557158374431,\n",
       " 0.993386309739101,\n",
       " 0.9960811739445165,\n",
       " 0.9892667375915664,\n",
       " 0.9891146572188002]"
      ]
     },
     "execution_count": 77,
     "metadata": {},
     "output_type": "execute_result"
    }
   ],
   "source": [
    "temp_input"
   ]
  },
  {
   "cell_type": "code",
   "execution_count": 78,
   "id": "413f0afd",
   "metadata": {},
   "outputs": [
    {
     "name": "stdout",
     "output_type": "stream",
     "text": [
      "[1.0139347]\n",
      "101\n",
      "1 day input [0.94975017 0.94479359 0.94643606 0.95186105 0.9487185  0.95304851\n",
      " 0.96069996 0.95856352 0.93214288 0.90045304 0.90147863 0.90799014\n",
      " 0.90453364 0.90833688 0.92854285 0.92550001 0.92832994 0.92946626\n",
      " 0.92987146 0.9299955  0.92325045 0.93215999 0.9341723  0.93174633\n",
      " 0.91958959 0.90912523 0.90844153 0.89195108 0.89208862 0.88984629\n",
      " 0.89952354 0.89859766 0.90903883 0.90153585 0.92249984 0.92490994\n",
      " 0.93042627 0.9226312  0.90386325 0.88145877 0.87772852 0.86897116\n",
      " 0.8709446  0.88227154 0.87652528 0.88948861 0.89202778 0.88272892\n",
      " 0.87733805 0.8782128  0.88153661 0.88986453 0.90686104 0.91183473\n",
      " 0.91636302 0.91738139 0.91236026 0.92530173 0.92996024 0.94394194\n",
      " 0.94710521 0.94716965 0.94446386 0.94727431 0.94358788 0.95618621\n",
      " 0.95722644 0.9609104  0.96507018 0.97074088 0.9736171  0.97265833\n",
      " 0.9817284  0.95680547 0.97195999 0.96987098 0.97310487 0.97661489\n",
      " 0.98435882 0.99113676 0.98703905 0.98205081 0.98335509 0.9886377\n",
      " 0.98658651 0.98827394 0.98154353 0.98162983 0.98982031 0.9969717\n",
      " 1.         0.99250054 0.98427727 0.98787007 0.99185572 0.99338631\n",
      " 0.99608117 0.98926674 0.98911466 1.01393473]\n",
      "1 day output [[1.0455521]]\n",
      "2 day input [0.94479359 0.94643606 0.95186105 0.9487185  0.95304851 0.96069996\n",
      " 0.95856352 0.93214288 0.90045304 0.90147863 0.90799014 0.90453364\n",
      " 0.90833688 0.92854285 0.92550001 0.92832994 0.92946626 0.92987146\n",
      " 0.9299955  0.92325045 0.93215999 0.9341723  0.93174633 0.91958959\n",
      " 0.90912523 0.90844153 0.89195108 0.89208862 0.88984629 0.89952354\n",
      " 0.89859766 0.90903883 0.90153585 0.92249984 0.92490994 0.93042627\n",
      " 0.9226312  0.90386325 0.88145877 0.87772852 0.86897116 0.8709446\n",
      " 0.88227154 0.87652528 0.88948861 0.89202778 0.88272892 0.87733805\n",
      " 0.8782128  0.88153661 0.88986453 0.90686104 0.91183473 0.91636302\n",
      " 0.91738139 0.91236026 0.92530173 0.92996024 0.94394194 0.94710521\n",
      " 0.94716965 0.94446386 0.94727431 0.94358788 0.95618621 0.95722644\n",
      " 0.9609104  0.96507018 0.97074088 0.9736171  0.97265833 0.9817284\n",
      " 0.95680547 0.97195999 0.96987098 0.97310487 0.97661489 0.98435882\n",
      " 0.99113676 0.98703905 0.98205081 0.98335509 0.9886377  0.98658651\n",
      " 0.98827394 0.98154353 0.98162983 0.98982031 0.9969717  1.\n",
      " 0.99250054 0.98427727 0.98787007 0.99185572 0.99338631 0.99608117\n",
      " 0.98926674 0.98911466 1.01393473 1.04555213]\n",
      "2 day output [[1.0712069]]\n",
      "3 day input [0.94643606 0.95186105 0.9487185  0.95304851 0.96069996 0.95856352\n",
      " 0.93214288 0.90045304 0.90147863 0.90799014 0.90453364 0.90833688\n",
      " 0.92854285 0.92550001 0.92832994 0.92946626 0.92987146 0.9299955\n",
      " 0.92325045 0.93215999 0.9341723  0.93174633 0.91958959 0.90912523\n",
      " 0.90844153 0.89195108 0.89208862 0.88984629 0.89952354 0.89859766\n",
      " 0.90903883 0.90153585 0.92249984 0.92490994 0.93042627 0.9226312\n",
      " 0.90386325 0.88145877 0.87772852 0.86897116 0.8709446  0.88227154\n",
      " 0.87652528 0.88948861 0.89202778 0.88272892 0.87733805 0.8782128\n",
      " 0.88153661 0.88986453 0.90686104 0.91183473 0.91636302 0.91738139\n",
      " 0.91236026 0.92530173 0.92996024 0.94394194 0.94710521 0.94716965\n",
      " 0.94446386 0.94727431 0.94358788 0.95618621 0.95722644 0.9609104\n",
      " 0.96507018 0.97074088 0.9736171  0.97265833 0.9817284  0.95680547\n",
      " 0.97195999 0.96987098 0.97310487 0.97661489 0.98435882 0.99113676\n",
      " 0.98703905 0.98205081 0.98335509 0.9886377  0.98658651 0.98827394\n",
      " 0.98154353 0.98162983 0.98982031 0.9969717  1.         0.99250054\n",
      " 0.98427727 0.98787007 0.99185572 0.99338631 0.99608117 0.98926674\n",
      " 0.98911466 1.01393473 1.04555213 1.07120693]\n",
      "3 day output [[1.0921799]]\n",
      "4 day input [0.95186105 0.9487185  0.95304851 0.96069996 0.95856352 0.93214288\n",
      " 0.90045304 0.90147863 0.90799014 0.90453364 0.90833688 0.92854285\n",
      " 0.92550001 0.92832994 0.92946626 0.92987146 0.9299955  0.92325045\n",
      " 0.93215999 0.9341723  0.93174633 0.91958959 0.90912523 0.90844153\n",
      " 0.89195108 0.89208862 0.88984629 0.89952354 0.89859766 0.90903883\n",
      " 0.90153585 0.92249984 0.92490994 0.93042627 0.9226312  0.90386325\n",
      " 0.88145877 0.87772852 0.86897116 0.8709446  0.88227154 0.87652528\n",
      " 0.88948861 0.89202778 0.88272892 0.87733805 0.8782128  0.88153661\n",
      " 0.88986453 0.90686104 0.91183473 0.91636302 0.91738139 0.91236026\n",
      " 0.92530173 0.92996024 0.94394194 0.94710521 0.94716965 0.94446386\n",
      " 0.94727431 0.94358788 0.95618621 0.95722644 0.9609104  0.96507018\n",
      " 0.97074088 0.9736171  0.97265833 0.9817284  0.95680547 0.97195999\n",
      " 0.96987098 0.97310487 0.97661489 0.98435882 0.99113676 0.98703905\n",
      " 0.98205081 0.98335509 0.9886377  0.98658651 0.98827394 0.98154353\n",
      " 0.98162983 0.98982031 0.9969717  1.         0.99250054 0.98427727\n",
      " 0.98787007 0.99185572 0.99338631 0.99608117 0.98926674 0.98911466\n",
      " 1.01393473 1.04555213 1.07120693 1.09217989]\n",
      "4 day output [[1.1124126]]\n",
      "5 day input [0.9487185  0.95304851 0.96069996 0.95856352 0.93214288 0.90045304\n",
      " 0.90147863 0.90799014 0.90453364 0.90833688 0.92854285 0.92550001\n",
      " 0.92832994 0.92946626 0.92987146 0.9299955  0.92325045 0.93215999\n",
      " 0.9341723  0.93174633 0.91958959 0.90912523 0.90844153 0.89195108\n",
      " 0.89208862 0.88984629 0.89952354 0.89859766 0.90903883 0.90153585\n",
      " 0.92249984 0.92490994 0.93042627 0.9226312  0.90386325 0.88145877\n",
      " 0.87772852 0.86897116 0.8709446  0.88227154 0.87652528 0.88948861\n",
      " 0.89202778 0.88272892 0.87733805 0.8782128  0.88153661 0.88986453\n",
      " 0.90686104 0.91183473 0.91636302 0.91738139 0.91236026 0.92530173\n",
      " 0.92996024 0.94394194 0.94710521 0.94716965 0.94446386 0.94727431\n",
      " 0.94358788 0.95618621 0.95722644 0.9609104  0.96507018 0.97074088\n",
      " 0.9736171  0.97265833 0.9817284  0.95680547 0.97195999 0.96987098\n",
      " 0.97310487 0.97661489 0.98435882 0.99113676 0.98703905 0.98205081\n",
      " 0.98335509 0.9886377  0.98658651 0.98827394 0.98154353 0.98162983\n",
      " 0.98982031 0.9969717  1.         0.99250054 0.98427727 0.98787007\n",
      " 0.99185572 0.99338631 0.99608117 0.98926674 0.98911466 1.01393473\n",
      " 1.04555213 1.07120693 1.09217989 1.11241257]\n",
      "5 day output [[1.1342484]]\n",
      "6 day input [0.95304851 0.96069996 0.95856352 0.93214288 0.90045304 0.90147863\n",
      " 0.90799014 0.90453364 0.90833688 0.92854285 0.92550001 0.92832994\n",
      " 0.92946626 0.92987146 0.9299955  0.92325045 0.93215999 0.9341723\n",
      " 0.93174633 0.91958959 0.90912523 0.90844153 0.89195108 0.89208862\n",
      " 0.88984629 0.89952354 0.89859766 0.90903883 0.90153585 0.92249984\n",
      " 0.92490994 0.93042627 0.9226312  0.90386325 0.88145877 0.87772852\n",
      " 0.86897116 0.8709446  0.88227154 0.87652528 0.88948861 0.89202778\n",
      " 0.88272892 0.87733805 0.8782128  0.88153661 0.88986453 0.90686104\n",
      " 0.91183473 0.91636302 0.91738139 0.91236026 0.92530173 0.92996024\n",
      " 0.94394194 0.94710521 0.94716965 0.94446386 0.94727431 0.94358788\n",
      " 0.95618621 0.95722644 0.9609104  0.96507018 0.97074088 0.9736171\n",
      " 0.97265833 0.9817284  0.95680547 0.97195999 0.96987098 0.97310487\n",
      " 0.97661489 0.98435882 0.99113676 0.98703905 0.98205081 0.98335509\n",
      " 0.9886377  0.98658651 0.98827394 0.98154353 0.98162983 0.98982031\n",
      " 0.9969717  1.         0.99250054 0.98427727 0.98787007 0.99185572\n",
      " 0.99338631 0.99608117 0.98926674 0.98911466 1.01393473 1.04555213\n",
      " 1.07120693 1.09217989 1.11241257 1.13424838]\n",
      "6 day output [[1.158145]]\n",
      "7 day input [0.96069996 0.95856352 0.93214288 0.90045304 0.90147863 0.90799014\n",
      " 0.90453364 0.90833688 0.92854285 0.92550001 0.92832994 0.92946626\n",
      " 0.92987146 0.9299955  0.92325045 0.93215999 0.9341723  0.93174633\n",
      " 0.91958959 0.90912523 0.90844153 0.89195108 0.89208862 0.88984629\n",
      " 0.89952354 0.89859766 0.90903883 0.90153585 0.92249984 0.92490994\n",
      " 0.93042627 0.9226312  0.90386325 0.88145877 0.87772852 0.86897116\n",
      " 0.8709446  0.88227154 0.87652528 0.88948861 0.89202778 0.88272892\n",
      " 0.87733805 0.8782128  0.88153661 0.88986453 0.90686104 0.91183473\n",
      " 0.91636302 0.91738139 0.91236026 0.92530173 0.92996024 0.94394194\n",
      " 0.94710521 0.94716965 0.94446386 0.94727431 0.94358788 0.95618621\n",
      " 0.95722644 0.9609104  0.96507018 0.97074088 0.9736171  0.97265833\n",
      " 0.9817284  0.95680547 0.97195999 0.96987098 0.97310487 0.97661489\n",
      " 0.98435882 0.99113676 0.98703905 0.98205081 0.98335509 0.9886377\n",
      " 0.98658651 0.98827394 0.98154353 0.98162983 0.98982031 0.9969717\n",
      " 1.         0.99250054 0.98427727 0.98787007 0.99185572 0.99338631\n",
      " 0.99608117 0.98926674 0.98911466 1.01393473 1.04555213 1.07120693\n",
      " 1.09217989 1.11241257 1.13424838 1.15814495]\n",
      "7 day output [[1.1835067]]\n",
      "8 day input [0.95856352 0.93214288 0.90045304 0.90147863 0.90799014 0.90453364\n",
      " 0.90833688 0.92854285 0.92550001 0.92832994 0.92946626 0.92987146\n",
      " 0.9299955  0.92325045 0.93215999 0.9341723  0.93174633 0.91958959\n",
      " 0.90912523 0.90844153 0.89195108 0.89208862 0.88984629 0.89952354\n",
      " 0.89859766 0.90903883 0.90153585 0.92249984 0.92490994 0.93042627\n",
      " 0.9226312  0.90386325 0.88145877 0.87772852 0.86897116 0.8709446\n",
      " 0.88227154 0.87652528 0.88948861 0.89202778 0.88272892 0.87733805\n",
      " 0.8782128  0.88153661 0.88986453 0.90686104 0.91183473 0.91636302\n",
      " 0.91738139 0.91236026 0.92530173 0.92996024 0.94394194 0.94710521\n",
      " 0.94716965 0.94446386 0.94727431 0.94358788 0.95618621 0.95722644\n",
      " 0.9609104  0.96507018 0.97074088 0.9736171  0.97265833 0.9817284\n",
      " 0.95680547 0.97195999 0.96987098 0.97310487 0.97661489 0.98435882\n",
      " 0.99113676 0.98703905 0.98205081 0.98335509 0.9886377  0.98658651\n",
      " 0.98827394 0.98154353 0.98162983 0.98982031 0.9969717  1.\n",
      " 0.99250054 0.98427727 0.98787007 0.99185572 0.99338631 0.99608117\n",
      " 0.98926674 0.98911466 1.01393473 1.04555213 1.07120693 1.09217989\n",
      " 1.11241257 1.13424838 1.15814495 1.18350673]\n"
     ]
    },
    {
     "name": "stdout",
     "output_type": "stream",
     "text": [
      "8 day output [[1.209477]]\n",
      "9 day input [0.93214288 0.90045304 0.90147863 0.90799014 0.90453364 0.90833688\n",
      " 0.92854285 0.92550001 0.92832994 0.92946626 0.92987146 0.9299955\n",
      " 0.92325045 0.93215999 0.9341723  0.93174633 0.91958959 0.90912523\n",
      " 0.90844153 0.89195108 0.89208862 0.88984629 0.89952354 0.89859766\n",
      " 0.90903883 0.90153585 0.92249984 0.92490994 0.93042627 0.9226312\n",
      " 0.90386325 0.88145877 0.87772852 0.86897116 0.8709446  0.88227154\n",
      " 0.87652528 0.88948861 0.89202778 0.88272892 0.87733805 0.8782128\n",
      " 0.88153661 0.88986453 0.90686104 0.91183473 0.91636302 0.91738139\n",
      " 0.91236026 0.92530173 0.92996024 0.94394194 0.94710521 0.94716965\n",
      " 0.94446386 0.94727431 0.94358788 0.95618621 0.95722644 0.9609104\n",
      " 0.96507018 0.97074088 0.9736171  0.97265833 0.9817284  0.95680547\n",
      " 0.97195999 0.96987098 0.97310487 0.97661489 0.98435882 0.99113676\n",
      " 0.98703905 0.98205081 0.98335509 0.9886377  0.98658651 0.98827394\n",
      " 0.98154353 0.98162983 0.98982031 0.9969717  1.         0.99250054\n",
      " 0.98427727 0.98787007 0.99185572 0.99338631 0.99608117 0.98926674\n",
      " 0.98911466 1.01393473 1.04555213 1.07120693 1.09217989 1.11241257\n",
      " 1.13424838 1.15814495 1.18350673 1.20947695]\n",
      "9 day output [[1.2353704]]\n",
      "10 day input [0.90045304 0.90147863 0.90799014 0.90453364 0.90833688 0.92854285\n",
      " 0.92550001 0.92832994 0.92946626 0.92987146 0.9299955  0.92325045\n",
      " 0.93215999 0.9341723  0.93174633 0.91958959 0.90912523 0.90844153\n",
      " 0.89195108 0.89208862 0.88984629 0.89952354 0.89859766 0.90903883\n",
      " 0.90153585 0.92249984 0.92490994 0.93042627 0.9226312  0.90386325\n",
      " 0.88145877 0.87772852 0.86897116 0.8709446  0.88227154 0.87652528\n",
      " 0.88948861 0.89202778 0.88272892 0.87733805 0.8782128  0.88153661\n",
      " 0.88986453 0.90686104 0.91183473 0.91636302 0.91738139 0.91236026\n",
      " 0.92530173 0.92996024 0.94394194 0.94710521 0.94716965 0.94446386\n",
      " 0.94727431 0.94358788 0.95618621 0.95722644 0.9609104  0.96507018\n",
      " 0.97074088 0.9736171  0.97265833 0.9817284  0.95680547 0.97195999\n",
      " 0.96987098 0.97310487 0.97661489 0.98435882 0.99113676 0.98703905\n",
      " 0.98205081 0.98335509 0.9886377  0.98658651 0.98827394 0.98154353\n",
      " 0.98162983 0.98982031 0.9969717  1.         0.99250054 0.98427727\n",
      " 0.98787007 0.99185572 0.99338631 0.99608117 0.98926674 0.98911466\n",
      " 1.01393473 1.04555213 1.07120693 1.09217989 1.11241257 1.13424838\n",
      " 1.15814495 1.18350673 1.20947695 1.2353704 ]\n",
      "10 day output [[1.2607765]]\n",
      "11 day input [0.90147863 0.90799014 0.90453364 0.90833688 0.92854285 0.92550001\n",
      " 0.92832994 0.92946626 0.92987146 0.9299955  0.92325045 0.93215999\n",
      " 0.9341723  0.93174633 0.91958959 0.90912523 0.90844153 0.89195108\n",
      " 0.89208862 0.88984629 0.89952354 0.89859766 0.90903883 0.90153585\n",
      " 0.92249984 0.92490994 0.93042627 0.9226312  0.90386325 0.88145877\n",
      " 0.87772852 0.86897116 0.8709446  0.88227154 0.87652528 0.88948861\n",
      " 0.89202778 0.88272892 0.87733805 0.8782128  0.88153661 0.88986453\n",
      " 0.90686104 0.91183473 0.91636302 0.91738139 0.91236026 0.92530173\n",
      " 0.92996024 0.94394194 0.94710521 0.94716965 0.94446386 0.94727431\n",
      " 0.94358788 0.95618621 0.95722644 0.9609104  0.96507018 0.97074088\n",
      " 0.9736171  0.97265833 0.9817284  0.95680547 0.97195999 0.96987098\n",
      " 0.97310487 0.97661489 0.98435882 0.99113676 0.98703905 0.98205081\n",
      " 0.98335509 0.9886377  0.98658651 0.98827394 0.98154353 0.98162983\n",
      " 0.98982031 0.9969717  1.         0.99250054 0.98427727 0.98787007\n",
      " 0.99185572 0.99338631 0.99608117 0.98926674 0.98911466 1.01393473\n",
      " 1.04555213 1.07120693 1.09217989 1.11241257 1.13424838 1.15814495\n",
      " 1.18350673 1.20947695 1.2353704  1.26077652]\n",
      "11 day output [[1.2854931]]\n",
      "12 day input [0.90799014 0.90453364 0.90833688 0.92854285 0.92550001 0.92832994\n",
      " 0.92946626 0.92987146 0.9299955  0.92325045 0.93215999 0.9341723\n",
      " 0.93174633 0.91958959 0.90912523 0.90844153 0.89195108 0.89208862\n",
      " 0.88984629 0.89952354 0.89859766 0.90903883 0.90153585 0.92249984\n",
      " 0.92490994 0.93042627 0.9226312  0.90386325 0.88145877 0.87772852\n",
      " 0.86897116 0.8709446  0.88227154 0.87652528 0.88948861 0.89202778\n",
      " 0.88272892 0.87733805 0.8782128  0.88153661 0.88986453 0.90686104\n",
      " 0.91183473 0.91636302 0.91738139 0.91236026 0.92530173 0.92996024\n",
      " 0.94394194 0.94710521 0.94716965 0.94446386 0.94727431 0.94358788\n",
      " 0.95618621 0.95722644 0.9609104  0.96507018 0.97074088 0.9736171\n",
      " 0.97265833 0.9817284  0.95680547 0.97195999 0.96987098 0.97310487\n",
      " 0.97661489 0.98435882 0.99113676 0.98703905 0.98205081 0.98335509\n",
      " 0.9886377  0.98658651 0.98827394 0.98154353 0.98162983 0.98982031\n",
      " 0.9969717  1.         0.99250054 0.98427727 0.98787007 0.99185572\n",
      " 0.99338631 0.99608117 0.98926674 0.98911466 1.01393473 1.04555213\n",
      " 1.07120693 1.09217989 1.11241257 1.13424838 1.15814495 1.18350673\n",
      " 1.20947695 1.2353704  1.26077652 1.28549314]\n",
      "12 day output [[1.3094217]]\n",
      "13 day input [0.90453364 0.90833688 0.92854285 0.92550001 0.92832994 0.92946626\n",
      " 0.92987146 0.9299955  0.92325045 0.93215999 0.9341723  0.93174633\n",
      " 0.91958959 0.90912523 0.90844153 0.89195108 0.89208862 0.88984629\n",
      " 0.89952354 0.89859766 0.90903883 0.90153585 0.92249984 0.92490994\n",
      " 0.93042627 0.9226312  0.90386325 0.88145877 0.87772852 0.86897116\n",
      " 0.8709446  0.88227154 0.87652528 0.88948861 0.89202778 0.88272892\n",
      " 0.87733805 0.8782128  0.88153661 0.88986453 0.90686104 0.91183473\n",
      " 0.91636302 0.91738139 0.91236026 0.92530173 0.92996024 0.94394194\n",
      " 0.94710521 0.94716965 0.94446386 0.94727431 0.94358788 0.95618621\n",
      " 0.95722644 0.9609104  0.96507018 0.97074088 0.9736171  0.97265833\n",
      " 0.9817284  0.95680547 0.97195999 0.96987098 0.97310487 0.97661489\n",
      " 0.98435882 0.99113676 0.98703905 0.98205081 0.98335509 0.9886377\n",
      " 0.98658651 0.98827394 0.98154353 0.98162983 0.98982031 0.9969717\n",
      " 1.         0.99250054 0.98427727 0.98787007 0.99185572 0.99338631\n",
      " 0.99608117 0.98926674 0.98911466 1.01393473 1.04555213 1.07120693\n",
      " 1.09217989 1.11241257 1.13424838 1.15814495 1.18350673 1.20947695\n",
      " 1.2353704  1.26077652 1.28549314 1.30942166]\n",
      "13 day output [[1.3325022]]\n",
      "14 day input [0.90833688 0.92854285 0.92550001 0.92832994 0.92946626 0.92987146\n",
      " 0.9299955  0.92325045 0.93215999 0.9341723  0.93174633 0.91958959\n",
      " 0.90912523 0.90844153 0.89195108 0.89208862 0.88984629 0.89952354\n",
      " 0.89859766 0.90903883 0.90153585 0.92249984 0.92490994 0.93042627\n",
      " 0.9226312  0.90386325 0.88145877 0.87772852 0.86897116 0.8709446\n",
      " 0.88227154 0.87652528 0.88948861 0.89202778 0.88272892 0.87733805\n",
      " 0.8782128  0.88153661 0.88986453 0.90686104 0.91183473 0.91636302\n",
      " 0.91738139 0.91236026 0.92530173 0.92996024 0.94394194 0.94710521\n",
      " 0.94716965 0.94446386 0.94727431 0.94358788 0.95618621 0.95722644\n",
      " 0.9609104  0.96507018 0.97074088 0.9736171  0.97265833 0.9817284\n",
      " 0.95680547 0.97195999 0.96987098 0.97310487 0.97661489 0.98435882\n",
      " 0.99113676 0.98703905 0.98205081 0.98335509 0.9886377  0.98658651\n",
      " 0.98827394 0.98154353 0.98162983 0.98982031 0.9969717  1.\n",
      " 0.99250054 0.98427727 0.98787007 0.99185572 0.99338631 0.99608117\n",
      " 0.98926674 0.98911466 1.01393473 1.04555213 1.07120693 1.09217989\n",
      " 1.11241257 1.13424838 1.15814495 1.18350673 1.20947695 1.2353704\n",
      " 1.26077652 1.28549314 1.30942166 1.33250225]\n",
      "14 day output [[1.3546934]]\n",
      "15 day input [0.92854285 0.92550001 0.92832994 0.92946626 0.92987146 0.9299955\n",
      " 0.92325045 0.93215999 0.9341723  0.93174633 0.91958959 0.90912523\n",
      " 0.90844153 0.89195108 0.89208862 0.88984629 0.89952354 0.89859766\n",
      " 0.90903883 0.90153585 0.92249984 0.92490994 0.93042627 0.9226312\n",
      " 0.90386325 0.88145877 0.87772852 0.86897116 0.8709446  0.88227154\n",
      " 0.87652528 0.88948861 0.89202778 0.88272892 0.87733805 0.8782128\n",
      " 0.88153661 0.88986453 0.90686104 0.91183473 0.91636302 0.91738139\n",
      " 0.91236026 0.92530173 0.92996024 0.94394194 0.94710521 0.94716965\n",
      " 0.94446386 0.94727431 0.94358788 0.95618621 0.95722644 0.9609104\n",
      " 0.96507018 0.97074088 0.9736171  0.97265833 0.9817284  0.95680547\n",
      " 0.97195999 0.96987098 0.97310487 0.97661489 0.98435882 0.99113676\n",
      " 0.98703905 0.98205081 0.98335509 0.9886377  0.98658651 0.98827394\n",
      " 0.98154353 0.98162983 0.98982031 0.9969717  1.         0.99250054\n",
      " 0.98427727 0.98787007 0.99185572 0.99338631 0.99608117 0.98926674\n",
      " 0.98911466 1.01393473 1.04555213 1.07120693 1.09217989 1.11241257\n",
      " 1.13424838 1.15814495 1.18350673 1.20947695 1.2353704  1.26077652\n",
      " 1.28549314 1.30942166 1.33250225 1.35469341]\n",
      "15 day output [[1.3759738]]\n",
      "16 day input [0.92550001 0.92832994 0.92946626 0.92987146 0.9299955  0.92325045\n",
      " 0.93215999 0.9341723  0.93174633 0.91958959 0.90912523 0.90844153\n",
      " 0.89195108 0.89208862 0.88984629 0.89952354 0.89859766 0.90903883\n",
      " 0.90153585 0.92249984 0.92490994 0.93042627 0.9226312  0.90386325\n",
      " 0.88145877 0.87772852 0.86897116 0.8709446  0.88227154 0.87652528\n",
      " 0.88948861 0.89202778 0.88272892 0.87733805 0.8782128  0.88153661\n",
      " 0.88986453 0.90686104 0.91183473 0.91636302 0.91738139 0.91236026\n",
      " 0.92530173 0.92996024 0.94394194 0.94710521 0.94716965 0.94446386\n",
      " 0.94727431 0.94358788 0.95618621 0.95722644 0.9609104  0.96507018\n",
      " 0.97074088 0.9736171  0.97265833 0.9817284  0.95680547 0.97195999\n",
      " 0.96987098 0.97310487 0.97661489 0.98435882 0.99113676 0.98703905\n",
      " 0.98205081 0.98335509 0.9886377  0.98658651 0.98827394 0.98154353\n",
      " 0.98162983 0.98982031 0.9969717  1.         0.99250054 0.98427727\n",
      " 0.98787007 0.99185572 0.99338631 0.99608117 0.98926674 0.98911466\n",
      " 1.01393473 1.04555213 1.07120693 1.09217989 1.11241257 1.13424838\n",
      " 1.15814495 1.18350673 1.20947695 1.2353704  1.26077652 1.28549314\n",
      " 1.30942166 1.33250225 1.35469341 1.37597382]\n"
     ]
    },
    {
     "name": "stdout",
     "output_type": "stream",
     "text": [
      "16 day output [[1.3963504]]\n",
      "17 day input [0.92832994 0.92946626 0.92987146 0.9299955  0.92325045 0.93215999\n",
      " 0.9341723  0.93174633 0.91958959 0.90912523 0.90844153 0.89195108\n",
      " 0.89208862 0.88984629 0.89952354 0.89859766 0.90903883 0.90153585\n",
      " 0.92249984 0.92490994 0.93042627 0.9226312  0.90386325 0.88145877\n",
      " 0.87772852 0.86897116 0.8709446  0.88227154 0.87652528 0.88948861\n",
      " 0.89202778 0.88272892 0.87733805 0.8782128  0.88153661 0.88986453\n",
      " 0.90686104 0.91183473 0.91636302 0.91738139 0.91236026 0.92530173\n",
      " 0.92996024 0.94394194 0.94710521 0.94716965 0.94446386 0.94727431\n",
      " 0.94358788 0.95618621 0.95722644 0.9609104  0.96507018 0.97074088\n",
      " 0.9736171  0.97265833 0.9817284  0.95680547 0.97195999 0.96987098\n",
      " 0.97310487 0.97661489 0.98435882 0.99113676 0.98703905 0.98205081\n",
      " 0.98335509 0.9886377  0.98658651 0.98827394 0.98154353 0.98162983\n",
      " 0.98982031 0.9969717  1.         0.99250054 0.98427727 0.98787007\n",
      " 0.99185572 0.99338631 0.99608117 0.98926674 0.98911466 1.01393473\n",
      " 1.04555213 1.07120693 1.09217989 1.11241257 1.13424838 1.15814495\n",
      " 1.18350673 1.20947695 1.2353704  1.26077652 1.28549314 1.30942166\n",
      " 1.33250225 1.35469341 1.37597382 1.39635038]\n",
      "17 day output [[1.4158573]]\n",
      "18 day input [0.92946626 0.92987146 0.9299955  0.92325045 0.93215999 0.9341723\n",
      " 0.93174633 0.91958959 0.90912523 0.90844153 0.89195108 0.89208862\n",
      " 0.88984629 0.89952354 0.89859766 0.90903883 0.90153585 0.92249984\n",
      " 0.92490994 0.93042627 0.9226312  0.90386325 0.88145877 0.87772852\n",
      " 0.86897116 0.8709446  0.88227154 0.87652528 0.88948861 0.89202778\n",
      " 0.88272892 0.87733805 0.8782128  0.88153661 0.88986453 0.90686104\n",
      " 0.91183473 0.91636302 0.91738139 0.91236026 0.92530173 0.92996024\n",
      " 0.94394194 0.94710521 0.94716965 0.94446386 0.94727431 0.94358788\n",
      " 0.95618621 0.95722644 0.9609104  0.96507018 0.97074088 0.9736171\n",
      " 0.97265833 0.9817284  0.95680547 0.97195999 0.96987098 0.97310487\n",
      " 0.97661489 0.98435882 0.99113676 0.98703905 0.98205081 0.98335509\n",
      " 0.9886377  0.98658651 0.98827394 0.98154353 0.98162983 0.98982031\n",
      " 0.9969717  1.         0.99250054 0.98427727 0.98787007 0.99185572\n",
      " 0.99338631 0.99608117 0.98926674 0.98911466 1.01393473 1.04555213\n",
      " 1.07120693 1.09217989 1.11241257 1.13424838 1.15814495 1.18350673\n",
      " 1.20947695 1.2353704  1.26077652 1.28549314 1.30942166 1.33250225\n",
      " 1.35469341 1.37597382 1.39635038 1.41585732]\n",
      "18 day output [[1.4345467]]\n",
      "19 day input [0.92987146 0.9299955  0.92325045 0.93215999 0.9341723  0.93174633\n",
      " 0.91958959 0.90912523 0.90844153 0.89195108 0.89208862 0.88984629\n",
      " 0.89952354 0.89859766 0.90903883 0.90153585 0.92249984 0.92490994\n",
      " 0.93042627 0.9226312  0.90386325 0.88145877 0.87772852 0.86897116\n",
      " 0.8709446  0.88227154 0.87652528 0.88948861 0.89202778 0.88272892\n",
      " 0.87733805 0.8782128  0.88153661 0.88986453 0.90686104 0.91183473\n",
      " 0.91636302 0.91738139 0.91236026 0.92530173 0.92996024 0.94394194\n",
      " 0.94710521 0.94716965 0.94446386 0.94727431 0.94358788 0.95618621\n",
      " 0.95722644 0.9609104  0.96507018 0.97074088 0.9736171  0.97265833\n",
      " 0.9817284  0.95680547 0.97195999 0.96987098 0.97310487 0.97661489\n",
      " 0.98435882 0.99113676 0.98703905 0.98205081 0.98335509 0.9886377\n",
      " 0.98658651 0.98827394 0.98154353 0.98162983 0.98982031 0.9969717\n",
      " 1.         0.99250054 0.98427727 0.98787007 0.99185572 0.99338631\n",
      " 0.99608117 0.98926674 0.98911466 1.01393473 1.04555213 1.07120693\n",
      " 1.09217989 1.11241257 1.13424838 1.15814495 1.18350673 1.20947695\n",
      " 1.2353704  1.26077652 1.28549314 1.30942166 1.33250225 1.35469341\n",
      " 1.37597382 1.39635038 1.41585732 1.43454671]\n",
      "19 day output [[1.4524821]]\n",
      "20 day input [0.9299955  0.92325045 0.93215999 0.9341723  0.93174633 0.91958959\n",
      " 0.90912523 0.90844153 0.89195108 0.89208862 0.88984629 0.89952354\n",
      " 0.89859766 0.90903883 0.90153585 0.92249984 0.92490994 0.93042627\n",
      " 0.9226312  0.90386325 0.88145877 0.87772852 0.86897116 0.8709446\n",
      " 0.88227154 0.87652528 0.88948861 0.89202778 0.88272892 0.87733805\n",
      " 0.8782128  0.88153661 0.88986453 0.90686104 0.91183473 0.91636302\n",
      " 0.91738139 0.91236026 0.92530173 0.92996024 0.94394194 0.94710521\n",
      " 0.94716965 0.94446386 0.94727431 0.94358788 0.95618621 0.95722644\n",
      " 0.9609104  0.96507018 0.97074088 0.9736171  0.97265833 0.9817284\n",
      " 0.95680547 0.97195999 0.96987098 0.97310487 0.97661489 0.98435882\n",
      " 0.99113676 0.98703905 0.98205081 0.98335509 0.9886377  0.98658651\n",
      " 0.98827394 0.98154353 0.98162983 0.98982031 0.9969717  1.\n",
      " 0.99250054 0.98427727 0.98787007 0.99185572 0.99338631 0.99608117\n",
      " 0.98926674 0.98911466 1.01393473 1.04555213 1.07120693 1.09217989\n",
      " 1.11241257 1.13424838 1.15814495 1.18350673 1.20947695 1.2353704\n",
      " 1.26077652 1.28549314 1.30942166 1.33250225 1.35469341 1.37597382\n",
      " 1.39635038 1.41585732 1.43454671 1.4524821 ]\n",
      "20 day output [[1.4697299]]\n",
      "21 day input [0.92325045 0.93215999 0.9341723  0.93174633 0.91958959 0.90912523\n",
      " 0.90844153 0.89195108 0.89208862 0.88984629 0.89952354 0.89859766\n",
      " 0.90903883 0.90153585 0.92249984 0.92490994 0.93042627 0.9226312\n",
      " 0.90386325 0.88145877 0.87772852 0.86897116 0.8709446  0.88227154\n",
      " 0.87652528 0.88948861 0.89202778 0.88272892 0.87733805 0.8782128\n",
      " 0.88153661 0.88986453 0.90686104 0.91183473 0.91636302 0.91738139\n",
      " 0.91236026 0.92530173 0.92996024 0.94394194 0.94710521 0.94716965\n",
      " 0.94446386 0.94727431 0.94358788 0.95618621 0.95722644 0.9609104\n",
      " 0.96507018 0.97074088 0.9736171  0.97265833 0.9817284  0.95680547\n",
      " 0.97195999 0.96987098 0.97310487 0.97661489 0.98435882 0.99113676\n",
      " 0.98703905 0.98205081 0.98335509 0.9886377  0.98658651 0.98827394\n",
      " 0.98154353 0.98162983 0.98982031 0.9969717  1.         0.99250054\n",
      " 0.98427727 0.98787007 0.99185572 0.99338631 0.99608117 0.98926674\n",
      " 0.98911466 1.01393473 1.04555213 1.07120693 1.09217989 1.11241257\n",
      " 1.13424838 1.15814495 1.18350673 1.20947695 1.2353704  1.26077652\n",
      " 1.28549314 1.30942166 1.33250225 1.35469341 1.37597382 1.39635038\n",
      " 1.41585732 1.43454671 1.4524821  1.4697299 ]\n",
      "21 day output [[1.4863526]]\n",
      "22 day input [0.93215999 0.9341723  0.93174633 0.91958959 0.90912523 0.90844153\n",
      " 0.89195108 0.89208862 0.88984629 0.89952354 0.89859766 0.90903883\n",
      " 0.90153585 0.92249984 0.92490994 0.93042627 0.9226312  0.90386325\n",
      " 0.88145877 0.87772852 0.86897116 0.8709446  0.88227154 0.87652528\n",
      " 0.88948861 0.89202778 0.88272892 0.87733805 0.8782128  0.88153661\n",
      " 0.88986453 0.90686104 0.91183473 0.91636302 0.91738139 0.91236026\n",
      " 0.92530173 0.92996024 0.94394194 0.94710521 0.94716965 0.94446386\n",
      " 0.94727431 0.94358788 0.95618621 0.95722644 0.9609104  0.96507018\n",
      " 0.97074088 0.9736171  0.97265833 0.9817284  0.95680547 0.97195999\n",
      " 0.96987098 0.97310487 0.97661489 0.98435882 0.99113676 0.98703905\n",
      " 0.98205081 0.98335509 0.9886377  0.98658651 0.98827394 0.98154353\n",
      " 0.98162983 0.98982031 0.9969717  1.         0.99250054 0.98427727\n",
      " 0.98787007 0.99185572 0.99338631 0.99608117 0.98926674 0.98911466\n",
      " 1.01393473 1.04555213 1.07120693 1.09217989 1.11241257 1.13424838\n",
      " 1.15814495 1.18350673 1.20947695 1.2353704  1.26077652 1.28549314\n",
      " 1.30942166 1.33250225 1.35469341 1.37597382 1.39635038 1.41585732\n",
      " 1.43454671 1.4524821  1.4697299  1.48635256]\n",
      "22 day output [[1.502407]]\n",
      "23 day input [0.9341723  0.93174633 0.91958959 0.90912523 0.90844153 0.89195108\n",
      " 0.89208862 0.88984629 0.89952354 0.89859766 0.90903883 0.90153585\n",
      " 0.92249984 0.92490994 0.93042627 0.9226312  0.90386325 0.88145877\n",
      " 0.87772852 0.86897116 0.8709446  0.88227154 0.87652528 0.88948861\n",
      " 0.89202778 0.88272892 0.87733805 0.8782128  0.88153661 0.88986453\n",
      " 0.90686104 0.91183473 0.91636302 0.91738139 0.91236026 0.92530173\n",
      " 0.92996024 0.94394194 0.94710521 0.94716965 0.94446386 0.94727431\n",
      " 0.94358788 0.95618621 0.95722644 0.9609104  0.96507018 0.97074088\n",
      " 0.9736171  0.97265833 0.9817284  0.95680547 0.97195999 0.96987098\n",
      " 0.97310487 0.97661489 0.98435882 0.99113676 0.98703905 0.98205081\n",
      " 0.98335509 0.9886377  0.98658651 0.98827394 0.98154353 0.98162983\n",
      " 0.98982031 0.9969717  1.         0.99250054 0.98427727 0.98787007\n",
      " 0.99185572 0.99338631 0.99608117 0.98926674 0.98911466 1.01393473\n",
      " 1.04555213 1.07120693 1.09217989 1.11241257 1.13424838 1.15814495\n",
      " 1.18350673 1.20947695 1.2353704  1.26077652 1.28549314 1.30942166\n",
      " 1.33250225 1.35469341 1.37597382 1.39635038 1.41585732 1.43454671\n",
      " 1.4524821  1.4697299  1.48635256 1.50240695]\n",
      "23 day output [[1.5179453]]\n",
      "24 day input [0.93174633 0.91958959 0.90912523 0.90844153 0.89195108 0.89208862\n",
      " 0.88984629 0.89952354 0.89859766 0.90903883 0.90153585 0.92249984\n",
      " 0.92490994 0.93042627 0.9226312  0.90386325 0.88145877 0.87772852\n",
      " 0.86897116 0.8709446  0.88227154 0.87652528 0.88948861 0.89202778\n",
      " 0.88272892 0.87733805 0.8782128  0.88153661 0.88986453 0.90686104\n",
      " 0.91183473 0.91636302 0.91738139 0.91236026 0.92530173 0.92996024\n",
      " 0.94394194 0.94710521 0.94716965 0.94446386 0.94727431 0.94358788\n",
      " 0.95618621 0.95722644 0.9609104  0.96507018 0.97074088 0.9736171\n",
      " 0.97265833 0.9817284  0.95680547 0.97195999 0.96987098 0.97310487\n",
      " 0.97661489 0.98435882 0.99113676 0.98703905 0.98205081 0.98335509\n",
      " 0.9886377  0.98658651 0.98827394 0.98154353 0.98162983 0.98982031\n",
      " 0.9969717  1.         0.99250054 0.98427727 0.98787007 0.99185572\n",
      " 0.99338631 0.99608117 0.98926674 0.98911466 1.01393473 1.04555213\n",
      " 1.07120693 1.09217989 1.11241257 1.13424838 1.15814495 1.18350673\n",
      " 1.20947695 1.2353704  1.26077652 1.28549314 1.30942166 1.33250225\n",
      " 1.35469341 1.37597382 1.39635038 1.41585732 1.43454671 1.4524821\n",
      " 1.4697299  1.48635256 1.50240695 1.51794529]\n"
     ]
    },
    {
     "name": "stdout",
     "output_type": "stream",
     "text": [
      "24 day output [[1.5330122]]\n",
      "25 day input [0.91958959 0.90912523 0.90844153 0.89195108 0.89208862 0.88984629\n",
      " 0.89952354 0.89859766 0.90903883 0.90153585 0.92249984 0.92490994\n",
      " 0.93042627 0.9226312  0.90386325 0.88145877 0.87772852 0.86897116\n",
      " 0.8709446  0.88227154 0.87652528 0.88948861 0.89202778 0.88272892\n",
      " 0.87733805 0.8782128  0.88153661 0.88986453 0.90686104 0.91183473\n",
      " 0.91636302 0.91738139 0.91236026 0.92530173 0.92996024 0.94394194\n",
      " 0.94710521 0.94716965 0.94446386 0.94727431 0.94358788 0.95618621\n",
      " 0.95722644 0.9609104  0.96507018 0.97074088 0.9736171  0.97265833\n",
      " 0.9817284  0.95680547 0.97195999 0.96987098 0.97310487 0.97661489\n",
      " 0.98435882 0.99113676 0.98703905 0.98205081 0.98335509 0.9886377\n",
      " 0.98658651 0.98827394 0.98154353 0.98162983 0.98982031 0.9969717\n",
      " 1.         0.99250054 0.98427727 0.98787007 0.99185572 0.99338631\n",
      " 0.99608117 0.98926674 0.98911466 1.01393473 1.04555213 1.07120693\n",
      " 1.09217989 1.11241257 1.13424838 1.15814495 1.18350673 1.20947695\n",
      " 1.2353704  1.26077652 1.28549314 1.30942166 1.33250225 1.35469341\n",
      " 1.37597382 1.39635038 1.41585732 1.43454671 1.4524821  1.4697299\n",
      " 1.48635256 1.50240695 1.51794529 1.53301215]\n",
      "25 day output [[1.5476437]]\n",
      "26 day input [0.90912523 0.90844153 0.89195108 0.89208862 0.88984629 0.89952354\n",
      " 0.89859766 0.90903883 0.90153585 0.92249984 0.92490994 0.93042627\n",
      " 0.9226312  0.90386325 0.88145877 0.87772852 0.86897116 0.8709446\n",
      " 0.88227154 0.87652528 0.88948861 0.89202778 0.88272892 0.87733805\n",
      " 0.8782128  0.88153661 0.88986453 0.90686104 0.91183473 0.91636302\n",
      " 0.91738139 0.91236026 0.92530173 0.92996024 0.94394194 0.94710521\n",
      " 0.94716965 0.94446386 0.94727431 0.94358788 0.95618621 0.95722644\n",
      " 0.9609104  0.96507018 0.97074088 0.9736171  0.97265833 0.9817284\n",
      " 0.95680547 0.97195999 0.96987098 0.97310487 0.97661489 0.98435882\n",
      " 0.99113676 0.98703905 0.98205081 0.98335509 0.9886377  0.98658651\n",
      " 0.98827394 0.98154353 0.98162983 0.98982031 0.9969717  1.\n",
      " 0.99250054 0.98427727 0.98787007 0.99185572 0.99338631 0.99608117\n",
      " 0.98926674 0.98911466 1.01393473 1.04555213 1.07120693 1.09217989\n",
      " 1.11241257 1.13424838 1.15814495 1.18350673 1.20947695 1.2353704\n",
      " 1.26077652 1.28549314 1.30942166 1.33250225 1.35469341 1.37597382\n",
      " 1.39635038 1.41585732 1.43454671 1.4524821  1.4697299  1.48635256\n",
      " 1.50240695 1.51794529 1.53301215 1.54764366]\n",
      "26 day output [[1.5618676]]\n",
      "27 day input [0.90844153 0.89195108 0.89208862 0.88984629 0.89952354 0.89859766\n",
      " 0.90903883 0.90153585 0.92249984 0.92490994 0.93042627 0.9226312\n",
      " 0.90386325 0.88145877 0.87772852 0.86897116 0.8709446  0.88227154\n",
      " 0.87652528 0.88948861 0.89202778 0.88272892 0.87733805 0.8782128\n",
      " 0.88153661 0.88986453 0.90686104 0.91183473 0.91636302 0.91738139\n",
      " 0.91236026 0.92530173 0.92996024 0.94394194 0.94710521 0.94716965\n",
      " 0.94446386 0.94727431 0.94358788 0.95618621 0.95722644 0.9609104\n",
      " 0.96507018 0.97074088 0.9736171  0.97265833 0.9817284  0.95680547\n",
      " 0.97195999 0.96987098 0.97310487 0.97661489 0.98435882 0.99113676\n",
      " 0.98703905 0.98205081 0.98335509 0.9886377  0.98658651 0.98827394\n",
      " 0.98154353 0.98162983 0.98982031 0.9969717  1.         0.99250054\n",
      " 0.98427727 0.98787007 0.99185572 0.99338631 0.99608117 0.98926674\n",
      " 0.98911466 1.01393473 1.04555213 1.07120693 1.09217989 1.11241257\n",
      " 1.13424838 1.15814495 1.18350673 1.20947695 1.2353704  1.26077652\n",
      " 1.28549314 1.30942166 1.33250225 1.35469341 1.37597382 1.39635038\n",
      " 1.41585732 1.43454671 1.4524821  1.4697299  1.48635256 1.50240695\n",
      " 1.51794529 1.53301215 1.54764366 1.56186759]\n",
      "27 day output [[1.575707]]\n",
      "28 day input [0.89195108 0.89208862 0.88984629 0.89952354 0.89859766 0.90903883\n",
      " 0.90153585 0.92249984 0.92490994 0.93042627 0.9226312  0.90386325\n",
      " 0.88145877 0.87772852 0.86897116 0.8709446  0.88227154 0.87652528\n",
      " 0.88948861 0.89202778 0.88272892 0.87733805 0.8782128  0.88153661\n",
      " 0.88986453 0.90686104 0.91183473 0.91636302 0.91738139 0.91236026\n",
      " 0.92530173 0.92996024 0.94394194 0.94710521 0.94716965 0.94446386\n",
      " 0.94727431 0.94358788 0.95618621 0.95722644 0.9609104  0.96507018\n",
      " 0.97074088 0.9736171  0.97265833 0.9817284  0.95680547 0.97195999\n",
      " 0.96987098 0.97310487 0.97661489 0.98435882 0.99113676 0.98703905\n",
      " 0.98205081 0.98335509 0.9886377  0.98658651 0.98827394 0.98154353\n",
      " 0.98162983 0.98982031 0.9969717  1.         0.99250054 0.98427727\n",
      " 0.98787007 0.99185572 0.99338631 0.99608117 0.98926674 0.98911466\n",
      " 1.01393473 1.04555213 1.07120693 1.09217989 1.11241257 1.13424838\n",
      " 1.15814495 1.18350673 1.20947695 1.2353704  1.26077652 1.28549314\n",
      " 1.30942166 1.33250225 1.35469341 1.37597382 1.39635038 1.41585732\n",
      " 1.43454671 1.4524821  1.4697299  1.48635256 1.50240695 1.51794529\n",
      " 1.53301215 1.54764366 1.56186759 1.57570696]\n",
      "28 day output [[1.5891807]]\n",
      "29 day input [0.89208862 0.88984629 0.89952354 0.89859766 0.90903883 0.90153585\n",
      " 0.92249984 0.92490994 0.93042627 0.9226312  0.90386325 0.88145877\n",
      " 0.87772852 0.86897116 0.8709446  0.88227154 0.87652528 0.88948861\n",
      " 0.89202778 0.88272892 0.87733805 0.8782128  0.88153661 0.88986453\n",
      " 0.90686104 0.91183473 0.91636302 0.91738139 0.91236026 0.92530173\n",
      " 0.92996024 0.94394194 0.94710521 0.94716965 0.94446386 0.94727431\n",
      " 0.94358788 0.95618621 0.95722644 0.9609104  0.96507018 0.97074088\n",
      " 0.9736171  0.97265833 0.9817284  0.95680547 0.97195999 0.96987098\n",
      " 0.97310487 0.97661489 0.98435882 0.99113676 0.98703905 0.98205081\n",
      " 0.98335509 0.9886377  0.98658651 0.98827394 0.98154353 0.98162983\n",
      " 0.98982031 0.9969717  1.         0.99250054 0.98427727 0.98787007\n",
      " 0.99185572 0.99338631 0.99608117 0.98926674 0.98911466 1.01393473\n",
      " 1.04555213 1.07120693 1.09217989 1.11241257 1.13424838 1.15814495\n",
      " 1.18350673 1.20947695 1.2353704  1.26077652 1.28549314 1.30942166\n",
      " 1.33250225 1.35469341 1.37597382 1.39635038 1.41585732 1.43454671\n",
      " 1.4524821  1.4697299  1.48635256 1.50240695 1.51794529 1.53301215\n",
      " 1.54764366 1.56186759 1.57570696 1.58918071]\n",
      "29 day output [[1.6023006]]\n",
      "[[1.0139347314834595], [1.045552134513855], [1.0712069272994995], [1.0921798944473267], [1.1124125719070435], [1.1342483758926392], [1.1581449508666992], [1.183506727218628], [1.2094769477844238], [1.235370397567749], [1.2607765197753906], [1.2854931354522705], [1.3094216585159302], [1.3325022459030151], [1.3546934127807617], [1.3759738206863403], [1.396350383758545], [1.4158573150634766], [1.434546709060669], [1.4524821043014526], [1.4697299003601074], [1.486352562904358], [1.5024069547653198], [1.5179452896118164], [1.5330121517181396], [1.5476436614990234], [1.561867594718933], [1.575706958770752], [1.5891807079315186], [1.6023006439208984]]\n"
     ]
    }
   ],
   "source": [
    "# demonstrate prediction for next 30 days\n",
    "from numpy import array\n",
    "\n",
    "lst_output=[]\n",
    "n_steps=100\n",
    "i=0\n",
    "while(i<30):\n",
    "    \n",
    "    if(len(temp_input)>100):\n",
    "        #print(temp_input)\n",
    "        x_input=np.array(temp_input[1:])\n",
    "        print(\"{} day input {}\".format(i,x_input))\n",
    "        x_input=x_input.reshape(1,-1)\n",
    "        x_input = x_input.reshape((1, n_steps, 1))\n",
    "        #print(x_input)\n",
    "        yhat = model.predict(x_input, verbose=0)\n",
    "        print(\"{} day output {}\".format(i,yhat))\n",
    "        temp_input.extend(yhat[0].tolist())\n",
    "        temp_input=temp_input[1:]\n",
    "        #print(temp_input)\n",
    "        lst_output.extend(yhat.tolist())\n",
    "        i=i+1\n",
    "    else:\n",
    "        x_input = x_input.reshape((1, n_steps,1))\n",
    "        yhat = model.predict(x_input, verbose=0)\n",
    "        print(yhat[0])\n",
    "        temp_input.extend(yhat[0].tolist())\n",
    "        print(len(temp_input))\n",
    "        lst_output.extend(yhat.tolist())\n",
    "        i=i+1\n",
    "    \n",
    "\n",
    "print(lst_output)"
   ]
  },
  {
   "cell_type": "code",
   "execution_count": 79,
   "id": "91a06aeb",
   "metadata": {},
   "outputs": [],
   "source": [
    "day_new=np.arange(1,101)\n",
    "day_pred=np.arange(101,131)"
   ]
  },
  {
   "cell_type": "code",
   "execution_count": 80,
   "id": "6b826c13",
   "metadata": {},
   "outputs": [
    {
     "data": {
      "text/plain": [
       "3584"
      ]
     },
     "execution_count": 80,
     "metadata": {},
     "output_type": "execute_result"
    }
   ],
   "source": [
    "len(df1)"
   ]
  },
  {
   "cell_type": "code",
   "execution_count": 81,
   "id": "4158c2f8",
   "metadata": {},
   "outputs": [
    {
     "data": {
      "text/plain": [
       "[<matplotlib.lines.Line2D at 0x1bb6c902650>]"
      ]
     },
     "execution_count": 81,
     "metadata": {},
     "output_type": "execute_result"
    },
    {
     "data": {
      "image/png": "[encoded data removed]",
      "text/plain": [
       "<Figure size 640x480 with 1 Axes>"
      ]
     },
     "metadata": {},
     "output_type": "display_data"
    }
   ],
   "source": [
    "plt.plot(day_new,scaler.inverse_transform(df1[3484:]))\n",
    "plt.plot(day_pred,scaler.inverse_transform(lst_output))"
   ]
  },
  {
   "cell_type": "code",
   "execution_count": 82,
   "id": "4ce0c569",
   "metadata": {},
   "outputs": [
    {
     "data": {
      "text/plain": [
       "[<matplotlib.lines.Line2D at 0x1bb6c8a1c00>]"
      ]
     },
     "execution_count": 82,
     "metadata": {},
     "output_type": "execute_result"
    },
    {
     "data": {
      "image/png": "[encoded data removed]",
      "text/plain": [
       "<Figure size 640x480 with 1 Axes>"
      ]
     },
     "metadata": {},
     "output_type": "display_data"
    }
   ],
   "source": [
    "df3=df1.tolist()\n",
    "df3.extend(lst_output)\n",
    "plt.plot(df3[1200:])"
   ]
  },
  {
   "cell_type": "code",
   "execution_count": 83,
   "id": "c6d4affb",
   "metadata": {},
   "outputs": [
    {
     "data": {
      "text/plain": [
       "[<matplotlib.lines.Line2D at 0x1bb6c92f040>]"
      ]
     },
     "execution_count": 83,
     "metadata": {},
     "output_type": "execute_result"
    },
    {
     "data": {
      "image/png": "[encoded data removed]",
      "text/plain": [
       "<Figure size 640x480 with 1 Axes>"
      ]
     },
     "metadata": {},
     "output_type": "display_data"
    }
   ],
   "source": [
    "df3=scaler.inverse_transform(df3).tolist()\n",
    "plt.plot(df3)"
   ]
  },
  {
   "cell_type": "code",
   "execution_count": null,
   "id": "c1a2bb4d",
   "metadata": {},
   "outputs": [],
   "source": []
  }
 ],
 "metadata": {
  "kernelspec": {
   "display_name": "Python 3 (ipykernel)",
   "language": "python",
   "name": "python3"
  },
  "language_info": {
   "codemirror_mode": {
    "name": "ipython",
    "version": 3
   },
   "file_extension": ".py",
   "mimetype": "text/x-python",
   "name": "python",
   "nbconvert_exporter": "python",
   "pygments_lexer": "ipython3",
   "version": "3.10.9"
  }
 },
 "nbformat": 4,
 "nbformat_minor": 5
}
